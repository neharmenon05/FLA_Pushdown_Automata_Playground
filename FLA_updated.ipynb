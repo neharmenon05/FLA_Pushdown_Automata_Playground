{
  "nbformat": 4,
  "nbformat_minor": 0,
  "metadata": {
    "colab": {
      "provenance": []
    },
    "kernelspec": {
      "name": "python3",
      "display_name": "Python 3"
    },
    "language_info": {
      "name": "python"
    }
  },
  "cells": [
    {
      "cell_type": "markdown",
      "source": [
        "**Setup**"
      ],
      "metadata": {
        "id": "lC_8aQsEn4T7"
      }
    },
    {
      "cell_type": "code",
      "execution_count": 1,
      "metadata": {
        "colab": {
          "base_uri": "https://localhost:8080/"
        },
        "id": "BnKEzY1RnzxW",
        "outputId": "a5d0a181-55a4-4e8b-8e92-01815b25cd79"
      },
      "outputs": [
        {
          "output_type": "stream",
          "name": "stdout",
          "text": [
            "Requirement already satisfied: graphviz in /usr/local/lib/python3.12/dist-packages (0.21)\n",
            "Reading package lists... Done\n",
            "Building dependency tree... Done\n",
            "Reading state information... Done\n",
            "graphviz is already the newest version (2.42.2-6ubuntu0.1).\n",
            "0 upgraded, 0 newly installed, 0 to remove and 35 not upgraded.\n"
          ]
        }
      ],
      "source": [
        "# Install optional libraries for visualization\n",
        "!pip install graphviz\n",
        "!apt-get install graphviz -y\n"
      ]
    },
    {
      "cell_type": "code",
      "source": [
        "# Imports\n",
        "import matplotlib.pyplot as plt\n",
        "import networkx as nx\n",
        "from collections import deque\n",
        "import ipywidgets as widgets\n",
        "from IPython.display import display, clear_output"
      ],
      "metadata": {
        "id": "To7YI-Kvn96v"
      },
      "execution_count": 2,
      "outputs": []
    },
    {
      "cell_type": "markdown",
      "source": [
        "---\n",
        "**PROJECT: Pushdown Automata Playground**\n",
        "---\n",
        "*Description:*\n",
        "\n",
        "This project simulates PDAs for various problems:\n",
        "   - Balanced Parentheses\n",
        "   - Palindrome Detection\n",
        "   - Context-Free Grammar (CFG) recognition\n",
        "\n",
        "The project is divided among 4 team members for modular presentation."
      ],
      "metadata": {
        "id": "hMC7UuE-qZ09"
      }
    },
    {
      "cell_type": "markdown",
      "source": [
        "**--------------- 1 ----------------**\n",
        " * PDA Base Class & CFG → PDA Converter\n",
        " * Description:\n",
        "   - Implements the general PDA class with stack and transitions.\n",
        "   - Provides a function to convert a CFG (context-free grammar) into PDA rules.\n",
        "   - Contains apply_ops utility for stack operations."
      ],
      "metadata": {
        "id": "6qIXc7bwq-LP"
      }
    },
    {
      "cell_type": "code",
      "source": [
        "from collections import deque\n",
        "\n",
        "class PDA:\n",
        "    def __init__(self):\n",
        "        self.stack = []\n",
        "        self.state = 'q0'\n",
        "        self.transitions = {}\n",
        "        self.accept_state = 'accept'\n",
        "\n",
        "    def add_transition(self, state, input_char, stack_top, new_state, stack_ops):\n",
        "        key = (state, input_char, stack_top)\n",
        "        self.transitions.setdefault(key, []).append((new_state, stack_ops))\n",
        "\n",
        "    def reset(self):\n",
        "        self.stack = []\n",
        "        self.state = 'q0'\n",
        "\n",
        "def apply_ops(stack, ops):\n",
        "    for op in ops:\n",
        "        if op == 'pop' and stack:\n",
        "            stack.pop()\n",
        "        elif op.startswith('push'):\n",
        "            stack.append(op.split(':')[1])\n",
        "\n",
        "def cfg_to_pda(productions):\n",
        "    pda = PDA()\n",
        "    pda.add_transition('q0', None, None, 'q1', ['push:S'])\n",
        "    for lhs, rhs in productions:\n",
        "        if rhs == 'ε':\n",
        "            pda.add_transition('q1', None, lhs, 'q1', ['pop'])\n",
        "        else:\n",
        "            ops = ['pop'] + [f'push:{c}' for c in reversed(rhs)]\n",
        "            pda.add_transition('q1', None, lhs, 'q1', ops)\n",
        "    for lhs, rhs in productions:\n",
        "        for c in rhs:\n",
        "            if c.islower():\n",
        "                pda.add_transition('q1', c, c, 'q1', ['pop'])\n",
        "    pda.add_transition('q1', None, None, 'accept', [])\n",
        "    return pda"
      ],
      "metadata": {
        "id": "27tV7WTkqc1B"
      },
      "execution_count": 19,
      "outputs": []
    },
    {
      "cell_type": "markdown",
      "source": [
        " **---------------- 2 ----------------**\n",
        "* Balanced Parentheses PDA\n",
        "* Description:\n",
        "   - Implements a PDA to check for balanced brackets: (), {}, []."
      ],
      "metadata": {
        "id": "WF9cv7xTrpd3"
      }
    },
    {
      "cell_type": "code",
      "source": [
        "class BalancedPDA:\n",
        "    def __init__(self):\n",
        "        self.stack = []\n",
        "\n",
        "    def check(self, s):\n",
        "        mapping = {')':'(', '}':'{', ']':'['}\n",
        "        history = []\n",
        "        for char in s:\n",
        "            if char in '({[':\n",
        "                self.stack.append(char)\n",
        "            elif char in ')}]':\n",
        "                if not self.stack or self.stack[-1] != mapping[char]:\n",
        "                    history.append(self.stack[:])\n",
        "                    return False, history\n",
        "                self.stack.pop()\n",
        "            history.append(self.stack[:])\n",
        "        return len(self.stack)==0, history\n",
        "\n"
      ],
      "metadata": {
        "id": "RiM238mUrQhz"
      },
      "execution_count": 14,
      "outputs": []
    },
    {
      "cell_type": "code",
      "source": [
        "print(\"=== 2: Balanced Parentheses Tests ===\")\n",
        "bp = BalancedPDA()\n",
        "tests_bp = [\"()\", \"{[()]}\", \"(]\", \"(()\"]\n",
        "for t in tests_bp:\n",
        "    result, _ = bp.check(t)\n",
        "    print(f\"{t} -> {result}\")"
      ],
      "metadata": {
        "colab": {
          "base_uri": "https://localhost:8080/"
        },
        "id": "O-bQf4vWrc1L",
        "outputId": "6635acba-21ef-4df5-bd4b-7923d64f24e5"
      },
      "execution_count": 13,
      "outputs": [
        {
          "output_type": "stream",
          "name": "stdout",
          "text": [
            "=== 2: Balanced Parentheses Tests ===\n",
            "() -> True\n",
            "{[()]} -> True\n",
            "(] -> False\n",
            "(() -> False\n"
          ]
        }
      ]
    },
    {
      "cell_type": "markdown",
      "source": [
        "**---------------- 3 ----------------**\n",
        "* Palindrome PDA\n",
        "* Description:\n",
        "   - Implements a PDA to check if a string is a palindrome.\n",
        "   - Ignores case and non-alphanumeric characters.\n"
      ],
      "metadata": {
        "id": "HTgRAmVdrzH2"
      }
    },
    {
      "cell_type": "code",
      "source": [
        "class PalindromePDA:\n",
        "    def __init__(self):\n",
        "        self.stack = []\n",
        "\n",
        "    def check(self, s):\n",
        "        filtered = ''.join(c.lower() for c in s if c.isalnum())\n",
        "        n = len(filtered)\n",
        "        mid = n // 2\n",
        "        history = []\n",
        "        for i in range(mid):\n",
        "            self.stack.append(filtered[i])\n",
        "            history.append(self.stack[:])\n",
        "        start = mid + 1 if n % 2 else mid\n",
        "        for i in range(start, n):\n",
        "            if not self.stack or self.stack[-1] != filtered[i]:\n",
        "                history.append(self.stack[:])\n",
        "                return False, history\n",
        "            self.stack.pop()\n",
        "            history.append(self.stack[:])\n",
        "        return len(self.stack)==0, history\n",
        "\n"
      ],
      "metadata": {
        "id": "3MLBKeAvrWzS"
      },
      "execution_count": 15,
      "outputs": []
    },
    {
      "cell_type": "code",
      "source": [
        "print(\"\\n=== 3: Palindrome Tests ===\")\n",
        "pp = PalindromePDA()\n",
        "tests_pp = [\"abba\", \"abcba\", \"A man, a plan, a canal: Panama\", \"hello\"]\n",
        "for t in tests_pp:\n",
        "    result, _ = pp.check(t)\n",
        "    print(f\"{t} -> {result}\")\n"
      ],
      "metadata": {
        "colab": {
          "base_uri": "https://localhost:8080/"
        },
        "id": "8Ot1mHnLre9Q",
        "outputId": "359c07b3-417f-470b-d73b-a19f02808f96"
      },
      "execution_count": 16,
      "outputs": [
        {
          "output_type": "stream",
          "name": "stdout",
          "text": [
            "\n",
            "=== 3: Palindrome Tests ===\n",
            "abba -> True\n",
            "abcba -> True\n",
            "A man, a plan, a canal: Panama -> True\n",
            "hello -> False\n"
          ]
        }
      ]
    },
    {
      "cell_type": "markdown",
      "source": [
        "**---------------- 4 ----------------**\n",
        " * CFG PDA Runner & Utilities\n",
        " * Description:\n",
        "   - Implements non-deterministic PDA simulation to run CFG-based PDAs.\n",
        "\n",
        "\n"
      ],
      "metadata": {
        "id": "IAQyDftjsAoe"
      }
    },
    {
      "cell_type": "code",
      "source": [
        "\n",
        "\n",
        "class CFGPDARunner:\n",
        "    def __init__(self, pda):\n",
        "        self.pda = pda\n",
        "\n",
        "    def run(self, s):\n",
        "        start_config = ('q1', tuple(['S']), 0, [])\n",
        "        queue = deque([start_config])\n",
        "        visited = set()\n",
        "        while queue:\n",
        "            state, stack, i, hist = queue.popleft()\n",
        "            stack_top = stack[-1] if stack else None\n",
        "            hist = hist + [(state, s[i:] if i < len(s) else \"\", list(stack))]\n",
        "            if state == 'accept' and not stack and i == len(s):\n",
        "                return True, hist\n",
        "            config_id = (state, stack, i)\n",
        "            if config_id in visited:\n",
        "                continue\n",
        "            visited.add(config_id)\n",
        "            current_input = s[i] if i < len(s) else None\n",
        "            for (st, sym, top), nexts in self.pda.transitions.items():\n",
        "                if st == state and sym == current_input and (top == stack_top or top is None):\n",
        "                    for new_state, ops in nexts:\n",
        "                        new_stack = list(stack)\n",
        "                        apply_ops(new_stack, ops)\n",
        "                        queue.append((new_state, tuple(new_stack), i+1, hist))\n",
        "            for (st, sym, top), nexts in self.pda.transitions.items():\n",
        "                if st == state and sym is None and (top == stack_top or top is None):\n",
        "                    for new_state, ops in nexts:\n",
        "                        new_stack = list(stack)\n",
        "                        apply_ops(new_stack, ops)\n",
        "                        queue.append((new_state, tuple(new_stack), i, hist))\n",
        "        return False, []\n",
        "\n",
        "\n"
      ],
      "metadata": {
        "id": "xgfj_tagrZFB"
      },
      "execution_count": 17,
      "outputs": []
    },
    {
      "cell_type": "code",
      "source": [
        "print(\"\\n=== 1 & 4: CFG PDA Tests ===\")\n",
        "cfg = [(\"S\", \"aSa\"), (\"S\", \"bSb\"), (\"S\", \"ε\")]\n",
        "pda = cfg_to_pda(cfg)\n",
        "runner = CFGPDARunner(pda)\n",
        "tests_cfg = [\"aa\", \"abba\", \"\", \"abc\"]\n",
        "for t in tests_cfg:\n",
        "    result, _ = runner.run(t)\n",
        "    print(f\"{t} -> {result}\")"
      ],
      "metadata": {
        "colab": {
          "base_uri": "https://localhost:8080/"
        },
        "id": "plbvvQzsrade",
        "outputId": "1bdf07a1-c939-4217-d0d2-24f974328e09"
      },
      "execution_count": 20,
      "outputs": [
        {
          "output_type": "stream",
          "name": "stdout",
          "text": [
            "\n",
            "=== 1 & 4: CFG PDA Tests ===\n",
            "aa -> True\n",
            "abba -> True\n",
            " -> True\n",
            "abc -> False\n"
          ]
        }
      ]
    }
  ]
}